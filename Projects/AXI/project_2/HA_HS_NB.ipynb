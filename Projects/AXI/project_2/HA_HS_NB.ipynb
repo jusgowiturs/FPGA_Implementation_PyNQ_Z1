{
 "cells": [
  {
   "cell_type": "code",
   "execution_count": 59,
   "id": "116165ef",
   "metadata": {},
   "outputs": [],
   "source": [
    "from pynq import Overlay\n",
    "\n",
    "#from matplotlib import pyplot as plot\n",
    "from time import sleep"
   ]
  },
  {
   "cell_type": "markdown",
   "id": "e0d24b04",
   "metadata": {},
   "source": [
    "## Loading Design  bit Stream file through Overlay\n",
    "* Two files such as .bit and .hwh files are required"
   ]
  },
  {
   "cell_type": "code",
   "execution_count": 60,
   "id": "288e978d",
   "metadata": {},
   "outputs": [],
   "source": [
    "ol = Overlay('design_1.bit')"
   ]
  },
  {
   "cell_type": "markdown",
   "id": "44618f2d",
   "metadata": {},
   "source": [
    "#### Secure Register Access: Stay Within Your IP’s Address Limits\n",
    "My Ip core name is HA_HS_0\n"
   ]
  },
  {
   "cell_type": "code",
   "execution_count": 61,
   "id": "140f7ee9",
   "metadata": {},
   "outputs": [
    {
     "data": {
      "application/json": {
       "addr_range": 65536,
       "bdtype": null,
       "device": "<pynq.pl_server.embedded_device.EmbeddedDevice object at 0xb36a7280>",
       "driver": "<class 'pynq.overlay.DefaultIP'>",
       "fullpath": "HA_HS_0",
       "gpio": {},
       "interrupts": {},
       "mem_id": "S00_AXI",
       "memtype": "REGISTER",
       "parameters": {
        "C_S00_AXI_ADDR_WIDTH": "5",
        "C_S00_AXI_BASEADDR": "0x43C00000",
        "C_S00_AXI_DATA_WIDTH": "32",
        "C_S00_AXI_HIGHADDR": "0x43C0FFFF",
        "Component_Name": "design_1_HA_HS_0_0",
        "EDK_IPTYPE": "PERIPHERAL"
       },
       "phys_addr": 1136656384,
       "registers": {},
       "state": null,
       "type": "xilinx.com:user:HA_HS:1.0"
      },
      "text/plain": [
       "{'fullpath': 'HA_HS_0',\n",
       " 'type': 'xilinx.com:user:HA_HS:1.0',\n",
       " 'bdtype': None,\n",
       " 'state': None,\n",
       " 'addr_range': 65536,\n",
       " 'phys_addr': 1136656384,\n",
       " 'mem_id': 'S00_AXI',\n",
       " 'memtype': 'REGISTER',\n",
       " 'gpio': {},\n",
       " 'interrupts': {},\n",
       " 'parameters': {'C_S00_AXI_DATA_WIDTH': '32',\n",
       "  'C_S00_AXI_ADDR_WIDTH': '5',\n",
       "  'Component_Name': 'design_1_HA_HS_0_0',\n",
       "  'EDK_IPTYPE': 'PERIPHERAL',\n",
       "  'C_S00_AXI_BASEADDR': '0x43C00000',\n",
       "  'C_S00_AXI_HIGHADDR': '0x43C0FFFF'},\n",
       " 'registers': {},\n",
       " 'device': <pynq.pl_server.embedded_device.EmbeddedDevice at 0xb36a7280>,\n",
       " 'driver': pynq.overlay.DefaultIP}"
      ]
     },
     "execution_count": 61,
     "metadata": {
      "application/json": {
       "expanded": false,
       "root": "HA_HS_0"
      }
     },
     "output_type": "execute_result"
    }
   ],
   "source": [
    "ol.ip_dict['HA_HS_0']"
   ]
  },
  {
   "cell_type": "markdown",
   "id": "e3a52951",
   "metadata": {},
   "source": [
    "##### Writing data into it\n",
    "(offset address, Datavalue<32bit length>)"
   ]
  },
  {
   "cell_type": "code",
   "execution_count": 62,
   "id": "57ef513b",
   "metadata": {},
   "outputs": [],
   "source": [
    "ol.HA_HS_0.write(0x00,5)"
   ]
  },
  {
   "cell_type": "markdown",
   "id": "e88f17c6",
   "metadata": {},
   "source": [
    "### HA_HS_0 Half Adder MM (Memory Mapped)\n",
    "\n",
    "The **HA_HS_0** module uses memory-mapped registers for bitwise operations as follows:\n",
    "\n",
    "- **BASE address[0]**: Represents the input **A**\n",
    "- **BASE address[1]**: Represents the input **B**\n",
    "- **BASE address[2]**: Represents the operation mode **M**\n",
    "    - When **M = 0**: Perform **A + B** (addition)\n",
    "        | **BASE Address Content** | **Sum** | **Carry** |\n",
    "        |--------------------------|---------|-----------|\n",
    "        | 0 (A=0,B=0)                     | 0       | 0         |\n",
    "        | 1 (A=1,B=0)                     | 1       | 0         |\n",
    "        | 2 (A=0,B=1) | 1       | 0         |\n",
    "        | 3  (A=1,B=1)| 0       | 1         |\n",
    "    - When **M = 1**: Perform **A - B** (subtraction)\n",
    "        | **BASE Address Content** | **Difference** | **Borrow** |\n",
    "        |--------------------------|----------------|------------|\n",
    "        | 4  (A=0,B=0)                   | 0              | 0          |\n",
    "        | 5  (A=1,B=0)                   | 1              | 0          |\n",
    "        | 6  (A=0,B=1)                     | 1              | 1          |\n",
    "        | 7  (A=1,B=1)                   | 0              | 0          |\n",
    "- **BASE address + offset × 4**: Specifies the memory address for the output or the final result, where **offset = 5**.\n"
   ]
  },
  {
   "cell_type": "markdown",
   "id": "8bff6fbf",
   "metadata": {},
   "source": [
    "# Get IP info from the overlay"
   ]
  },
  {
   "cell_type": "code",
   "execution_count": 63,
   "id": "2615d3ca",
   "metadata": {},
   "outputs": [
    {
     "name": "stdout",
     "output_type": "stream",
     "text": [
      "Physical base address: 0x43C00000\n",
      "Offset: 0x0\n",
      "Full physical address read: 0x43C00000\n",
      "Value at that address: 0x00000005\n"
     ]
    }
   ],
   "source": [
    "# Get IP info from the overlay\n",
    "ip_info = ol.ip_dict['HA_HS_0']\n",
    "phys_addr = ip_info['phys_addr']\n",
    "\n",
    "# Choose the offset to read from (relative to IP base address)\n",
    "offset = 0x0\n",
    "\n",
    "# Read value from offset\n",
    "value = ol.HA_HS_0.read(offset)\n",
    "\n",
    "# Display physical address and value\n",
    "print(f\"Physical base address: 0x{phys_addr:X}\")\n",
    "print(f\"Offset: 0x{offset:X}\")\n",
    "print(f\"Full physical address read: 0x{phys_addr + offset:X}\")\n",
    "print(f\"Value at that address: 0x{value:08X}\")\n"
   ]
  },
  {
   "cell_type": "code",
   "execution_count": 64,
   "id": "931aad2a",
   "metadata": {},
   "outputs": [
    {
     "name": "stdout",
     "output_type": "stream",
     "text": [
      "****************************************************************************************************\n",
      "Physical Address: 0x43C00000, Value: 0x00000000\n",
      "Physical Address: 0x43C00004, Value: 0x00000000\n",
      "Physical Address: 0x43C00008, Value: 0x00000000\n",
      "Physical Address: 0x43C0000C, Value: 0x00000000\n",
      "Physical Address: 0x43C00010, Value: 0x00000000\n",
      "Physical Address: 0x43C00014, Value: 0x00000000\n",
      "Physical Address: 0x43C00018, Value: 0x00000000\n",
      "Physical Address: 0x43C0001C, Value: 0x00000000\n",
      "****************************************************************************************************\n",
      "Physical Address: 0x43C00000, Value: 0x00000001\n",
      "Physical Address: 0x43C00004, Value: 0x00000000\n",
      "Physical Address: 0x43C00008, Value: 0x00000000\n",
      "Physical Address: 0x43C0000C, Value: 0x00000000\n",
      "Physical Address: 0x43C00010, Value: 0x00000000\n",
      "Physical Address: 0x43C00014, Value: 0x00000001\n",
      "Physical Address: 0x43C00018, Value: 0x00000000\n",
      "Physical Address: 0x43C0001C, Value: 0x00000000\n",
      "****************************************************************************************************\n",
      "Physical Address: 0x43C00000, Value: 0x00000002\n",
      "Physical Address: 0x43C00004, Value: 0x00000000\n",
      "Physical Address: 0x43C00008, Value: 0x00000000\n",
      "Physical Address: 0x43C0000C, Value: 0x00000000\n",
      "Physical Address: 0x43C00010, Value: 0x00000000\n",
      "Physical Address: 0x43C00014, Value: 0x00000001\n",
      "Physical Address: 0x43C00018, Value: 0x00000000\n",
      "Physical Address: 0x43C0001C, Value: 0x00000000\n",
      "****************************************************************************************************\n",
      "Physical Address: 0x43C00000, Value: 0x00000003\n",
      "Physical Address: 0x43C00004, Value: 0x00000000\n",
      "Physical Address: 0x43C00008, Value: 0x00000000\n",
      "Physical Address: 0x43C0000C, Value: 0x00000000\n",
      "Physical Address: 0x43C00010, Value: 0x00000000\n",
      "Physical Address: 0x43C00014, Value: 0x00000002\n",
      "Physical Address: 0x43C00018, Value: 0x00000000\n",
      "Physical Address: 0x43C0001C, Value: 0x00000000\n",
      "****************************************************************************************************\n",
      "Physical Address: 0x43C00000, Value: 0x00000004\n",
      "Physical Address: 0x43C00004, Value: 0x00000000\n",
      "Physical Address: 0x43C00008, Value: 0x00000000\n",
      "Physical Address: 0x43C0000C, Value: 0x00000000\n",
      "Physical Address: 0x43C00010, Value: 0x00000000\n",
      "Physical Address: 0x43C00014, Value: 0x00000000\n",
      "Physical Address: 0x43C00018, Value: 0x00000000\n",
      "Physical Address: 0x43C0001C, Value: 0x00000000\n",
      "****************************************************************************************************\n",
      "Physical Address: 0x43C00000, Value: 0x00000005\n",
      "Physical Address: 0x43C00004, Value: 0x00000000\n",
      "Physical Address: 0x43C00008, Value: 0x00000000\n",
      "Physical Address: 0x43C0000C, Value: 0x00000000\n",
      "Physical Address: 0x43C00010, Value: 0x00000000\n",
      "Physical Address: 0x43C00014, Value: 0x00000001\n",
      "Physical Address: 0x43C00018, Value: 0x00000000\n",
      "Physical Address: 0x43C0001C, Value: 0x00000000\n",
      "****************************************************************************************************\n",
      "Physical Address: 0x43C00000, Value: 0x00000006\n",
      "Physical Address: 0x43C00004, Value: 0x00000000\n",
      "Physical Address: 0x43C00008, Value: 0x00000000\n",
      "Physical Address: 0x43C0000C, Value: 0x00000000\n",
      "Physical Address: 0x43C00010, Value: 0x00000000\n",
      "Physical Address: 0x43C00014, Value: 0x00000003\n",
      "Physical Address: 0x43C00018, Value: 0x00000000\n",
      "Physical Address: 0x43C0001C, Value: 0x00000000\n",
      "****************************************************************************************************\n",
      "Physical Address: 0x43C00000, Value: 0x00000007\n",
      "Physical Address: 0x43C00004, Value: 0x00000000\n",
      "Physical Address: 0x43C00008, Value: 0x00000000\n",
      "Physical Address: 0x43C0000C, Value: 0x00000000\n",
      "Physical Address: 0x43C00010, Value: 0x00000000\n",
      "Physical Address: 0x43C00014, Value: 0x00000000\n",
      "Physical Address: 0x43C00018, Value: 0x00000000\n",
      "Physical Address: 0x43C0001C, Value: 0x00000000\n"
     ]
    }
   ],
   "source": [
    "# Get IP info from the overlay\n",
    "ip_info = ol.ip_dict['HA_HS_0']\n",
    "phys_addr = ip_info['phys_addr']\n",
    "\n",
    "# Define how many registers to read\n",
    "num_registers = 8  # Change this to how many you want to read\n",
    "\n",
    "# Loop through successive offsets and display the value at each location\n",
    "for i in range(num_registers):\n",
    "    offset = i * 4  # Assuming each register is 4 bytes (32-bit)\n",
    "    ol.HA_HS_0.write(0x00,i)\n",
    "    #sleep(1)\n",
    "    # Read value at the current offset\n",
    "    print(\"*\"*100)\n",
    "    for j in range(num_registers):\n",
    "        offset = j * 4  # Assuming each register is 4 bytes (32-bit)\n",
    "        value = ol.HA_HS_0.read(offset)\n",
    "    \n",
    "        # Calculate the full physical address for this location\n",
    "        full_addr = phys_addr + offset\n",
    "    \n",
    "        # Display the address and corresponding value\n",
    "        print(f\"Physical Address: 0x{full_addr:X}, Value: 0x{value:08X}\")\n"
   ]
  },
  {
   "cell_type": "code",
   "execution_count": null,
   "id": "c7d180b9",
   "metadata": {},
   "outputs": [],
   "source": []
  }
 ],
 "metadata": {
  "kernelspec": {
   "display_name": "Python 3",
   "language": "python",
   "name": "python3"
  },
  "language_info": {
   "codemirror_mode": {
    "name": "ipython",
    "version": 3
   },
   "file_extension": ".py",
   "mimetype": "text/x-python",
   "name": "python",
   "nbconvert_exporter": "python",
   "pygments_lexer": "ipython3",
   "version": "3.8.2"
  }
 },
 "nbformat": 4,
 "nbformat_minor": 5
}
