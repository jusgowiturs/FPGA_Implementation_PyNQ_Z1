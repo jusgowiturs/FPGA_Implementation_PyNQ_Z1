{
 "cells": [
  {
   "cell_type": "code",
   "execution_count": 39,
   "id": "98a92cbe",
   "metadata": {},
   "outputs": [],
   "source": [
    "from pynq import Overlay"
   ]
  },
  {
   "cell_type": "code",
   "execution_count": 40,
   "id": "bf611e19",
   "metadata": {},
   "outputs": [],
   "source": [
    "ol = Overlay('Counter.bit')"
   ]
  },
  {
   "cell_type": "code",
   "execution_count": 38,
   "id": "f6c39ae3",
   "metadata": {},
   "outputs": [],
   "source": [
    "from pynq import GPIO\n",
    "RST = GPIO(GPIO.get_gpio_pin(1), 'out')\n",
    "RST.write(1)"
   ]
  },
  {
   "cell_type": "code",
   "execution_count": 41,
   "id": "658844fc",
   "metadata": {},
   "outputs": [],
   "source": [
    "from pynq import Clocks"
   ]
  },
  {
   "cell_type": "code",
   "execution_count": 42,
   "id": "2f5b8648",
   "metadata": {},
   "outputs": [
    {
     "name": "stdout",
     "output_type": "stream",
     "text": [
      "FCLK:1.000000 MHz\n"
     ]
    }
   ],
   "source": [
    "Clocks.fclk0_mhz = 1\n",
    "print(f\"FCLK:{Clocks.fclk0_mhz:.6f} MHz\")"
   ]
  },
  {
   "cell_type": "code",
   "execution_count": 35,
   "id": "eeb417da",
   "metadata": {},
   "outputs": [],
   "source": []
  },
  {
   "cell_type": "code",
   "execution_count": null,
   "id": "40336cc6",
   "metadata": {},
   "outputs": [],
   "source": []
  }
 ],
 "metadata": {
  "kernelspec": {
   "display_name": "Python 3",
   "language": "python",
   "name": "python3"
  },
  "language_info": {
   "codemirror_mode": {
    "name": "ipython",
    "version": 3
   },
   "file_extension": ".py",
   "mimetype": "text/x-python",
   "name": "python",
   "nbconvert_exporter": "python",
   "pygments_lexer": "ipython3",
   "version": "3.8.2"
  }
 },
 "nbformat": 4,
 "nbformat_minor": 5
}
