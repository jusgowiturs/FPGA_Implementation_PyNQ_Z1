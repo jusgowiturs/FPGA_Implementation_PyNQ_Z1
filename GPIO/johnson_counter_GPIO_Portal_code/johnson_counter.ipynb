{
 "cells": [
  {
   "cell_type": "code",
   "execution_count": 1,
   "id": "557b4bc6",
   "metadata": {},
   "outputs": [
    {
     "data": {
      "application/javascript": [
       "\n",
       "try {\n",
       "require(['notebook/js/codecell'], function(codecell) {\n",
       "  codecell.CodeCell.options_default.highlight_modes[\n",
       "      'magic_text/x-csrc'] = {'reg':[/^%%microblaze/]};\n",
       "  Jupyter.notebook.events.one('kernel_ready.Kernel', function(){\n",
       "      Jupyter.notebook.get_cells().map(function(cell){\n",
       "          if (cell.cell_type == 'code'){ cell.auto_highlight(); } }) ;\n",
       "  });\n",
       "});\n",
       "} catch (e) {};\n"
      ]
     },
     "metadata": {},
     "output_type": "display_data"
    },
    {
     "data": {
      "application/javascript": [
       "\n",
       "try {\n",
       "require(['notebook/js/codecell'], function(codecell) {\n",
       "  codecell.CodeCell.options_default.highlight_modes[\n",
       "      'magic_text/x-csrc'] = {'reg':[/^%%pybind11/]};\n",
       "  Jupyter.notebook.events.one('kernel_ready.Kernel', function(){\n",
       "      Jupyter.notebook.get_cells().map(function(cell){\n",
       "          if (cell.cell_type == 'code'){ cell.auto_highlight(); } }) ;\n",
       "  });\n",
       "});\n",
       "} catch (e) {};\n"
      ]
     },
     "metadata": {},
     "output_type": "display_data"
    }
   ],
   "source": [
    "from pynq import Overlay"
   ]
  },
  {
   "cell_type": "code",
   "execution_count": 2,
   "id": "0c3eaaee",
   "metadata": {},
   "outputs": [],
   "source": [
    "ol = Overlay(\"johnson_counter.bit\")"
   ]
  },
  {
   "cell_type": "code",
   "execution_count": 36,
   "id": "416f1c6b",
   "metadata": {},
   "outputs": [],
   "source": [
    "from pynq import GPIO\n",
    "\n",
    "left = GPIO(GPIO.get_gpio_pin(0), 'out')\n",
    "right = GPIO(GPIO.get_gpio_pin(1), 'out')\n",
    "stop = GPIO(GPIO.get_gpio_pin(2), 'out')\n",
    "toggle_switch  =  0;"
   ]
  },
  {
   "cell_type": "code",
   "execution_count": 60,
   "id": "665f95c5",
   "metadata": {},
   "outputs": [],
   "source": [
    "toggle_switch = 1\n",
    "left.write(toggle_switch)\n",
    "stop.write(toggle_switch)"
   ]
  },
  {
   "cell_type": "markdown",
   "id": "c798b3c8",
   "metadata": {},
   "source": [
    "TO CHANGE CLOCK FREQUENCY\n"
   ]
  },
  {
   "cell_type": "code",
   "execution_count": 5,
   "id": "a94f65c7",
   "metadata": {},
   "outputs": [],
   "source": [
    "from pynq import Clocks"
   ]
  },
  {
   "cell_type": "code",
   "execution_count": 8,
   "id": "ddcf1a70",
   "metadata": {},
   "outputs": [
    {
     "name": "stdout",
     "output_type": "stream",
     "text": [
      "FCLK:0.500000 MHz\n"
     ]
    }
   ],
   "source": [
    "Clocks.fclk0_mhz = 0.5\n",
    "print(f\"FCLK:{Clocks.fclk0_mhz:.6f} MHz\")"
   ]
  },
  {
   "cell_type": "code",
   "execution_count": 71,
   "id": "971d1272",
   "metadata": {},
   "outputs": [],
   "source": [
    "toggle_switch = 0\n",
    "right.write(toggle_switch)\n",
    "stop.write(toggle_switch)"
   ]
  },
  {
   "cell_type": "code",
   "execution_count": 72,
   "id": "7c27ae0a",
   "metadata": {},
   "outputs": [],
   "source": [
    "toggle_switch =1\n",
    "stop.write(toggle_switch)"
   ]
  },
  {
   "cell_type": "code",
   "execution_count": null,
   "id": "a648965e",
   "metadata": {},
   "outputs": [],
   "source": []
  },
  {
   "cell_type": "code",
   "execution_count": null,
   "id": "63f45dbd",
   "metadata": {},
   "outputs": [],
   "source": []
  }
 ],
 "metadata": {
  "kernelspec": {
   "display_name": "Python 3",
   "language": "python",
   "name": "python3"
  },
  "language_info": {
   "codemirror_mode": {
    "name": "ipython",
    "version": 3
   },
   "file_extension": ".py",
   "mimetype": "text/x-python",
   "name": "python",
   "nbconvert_exporter": "python",
   "pygments_lexer": "ipython3",
   "version": "3.8.2"
  }
 },
 "nbformat": 4,
 "nbformat_minor": 5
}
