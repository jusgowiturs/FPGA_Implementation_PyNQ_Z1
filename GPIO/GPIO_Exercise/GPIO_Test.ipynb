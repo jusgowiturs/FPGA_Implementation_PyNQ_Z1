{
 "cells": [
  {
   "cell_type": "code",
   "execution_count": 1,
   "id": "2e983392",
   "metadata": {},
   "outputs": [
    {
     "data": {
      "application/javascript": [
       "\n",
       "try {\n",
       "require(['notebook/js/codecell'], function(codecell) {\n",
       "  codecell.CodeCell.options_default.highlight_modes[\n",
       "      'magic_text/x-csrc'] = {'reg':[/^%%microblaze/]};\n",
       "  Jupyter.notebook.events.one('kernel_ready.Kernel', function(){\n",
       "      Jupyter.notebook.get_cells().map(function(cell){\n",
       "          if (cell.cell_type == 'code'){ cell.auto_highlight(); } }) ;\n",
       "  });\n",
       "});\n",
       "} catch (e) {};\n"
      ]
     },
     "metadata": {},
     "output_type": "display_data"
    },
    {
     "data": {
      "application/javascript": [
       "\n",
       "try {\n",
       "require(['notebook/js/codecell'], function(codecell) {\n",
       "  codecell.CodeCell.options_default.highlight_modes[\n",
       "      'magic_text/x-csrc'] = {'reg':[/^%%pybind11/]};\n",
       "  Jupyter.notebook.events.one('kernel_ready.Kernel', function(){\n",
       "      Jupyter.notebook.get_cells().map(function(cell){\n",
       "          if (cell.cell_type == 'code'){ cell.auto_highlight(); } }) ;\n",
       "  });\n",
       "});\n",
       "} catch (e) {};\n"
      ]
     },
     "metadata": {},
     "output_type": "display_data"
    }
   ],
   "source": [
    "from pynq import Overlay\n",
    "# from pynq import Clocks\n",
    "# Clocks.fclk0_mhz = 100\n",
    "# print(f\"FCLK:{Clocks.fclk0_mhz:.6f} MHz\")"
   ]
  },
  {
   "cell_type": "code",
   "execution_count": 2,
   "id": "3a928bdb",
   "metadata": {},
   "outputs": [],
   "source": [
    "ol = Overlay('GPIO_Test.bit')"
   ]
  },
  {
   "cell_type": "code",
   "execution_count": 16,
   "id": "efc865d8",
   "metadata": {},
   "outputs": [],
   "source": [
    "from pynq import GPIO\n",
    "# RST = GPIO(GPIO.get_gpio_pin(0), 'out')\n",
    "A_in   = GPIO(GPIO.get_gpio_pin(5),'out')\n",
    "B_in   = GPIO(GPIO.get_gpio_pin(4),'out')\n",
    "F1_out = GPIO(GPIO.get_gpio_pin(0),'in')            # AND\n",
    "F2_out = GPIO(GPIO.get_gpio_pin(1),'in')            # OR\n",
    "F3_out = GPIO(GPIO.get_gpio_pin(2),'in')            # XOR\n",
    "F4_out = GPIO(GPIO.get_gpio_pin(3),'in')            # NOT of A"
   ]
  },
  {
   "cell_type": "code",
   "execution_count": 20,
   "id": "2e459cf3",
   "metadata": {},
   "outputs": [
    {
     "name": "stdout",
     "output_type": "stream",
     "text": [
      "0\n",
      "1\n",
      "1\n",
      "1\n"
     ]
    }
   ],
   "source": [
    "A_in.write(0)\n",
    "B_in.write(1)\n",
    "print(F1_out.read())\n",
    "print(F2_out.read())\n",
    "print(F3_out.read())\n",
    "print(F4_out.read())"
   ]
  },
  {
   "cell_type": "code",
   "execution_count": null,
   "id": "cd274304",
   "metadata": {},
   "outputs": [],
   "source": []
  }
 ],
 "metadata": {
  "kernelspec": {
   "display_name": "Python 3",
   "language": "python",
   "name": "python3"
  },
  "language_info": {
   "codemirror_mode": {
    "name": "ipython",
    "version": 3
   },
   "file_extension": ".py",
   "mimetype": "text/x-python",
   "name": "python",
   "nbconvert_exporter": "python",
   "pygments_lexer": "ipython3",
   "version": "3.8.2"
  }
 },
 "nbformat": 4,
 "nbformat_minor": 5
}
